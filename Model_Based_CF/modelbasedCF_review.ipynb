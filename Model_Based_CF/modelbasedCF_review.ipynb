{
  "nbformat": 4,
  "nbformat_minor": 0,
  "metadata": {
    "colab": {
      "provenance": []
    },
    "kernelspec": {
      "name": "python3",
      "display_name": "Python 3"
    },
    "language_info": {
      "name": "python"
    }
  },
  "cells": [
    {
      "cell_type": "code",
      "source": [
        "!pip install scikit-surprise"
      ],
      "metadata": {
        "colab": {
          "base_uri": "https://localhost:8080/"
        },
        "id": "t2j-8myO3NaQ",
        "outputId": "0ea3cb4c-17e2-4a3d-a2b1-b22d272074ba"
      },
      "execution_count": null,
      "outputs": [
        {
          "output_type": "stream",
          "name": "stdout",
          "text": [
            "Requirement already satisfied: scikit-surprise in /usr/local/lib/python3.10/dist-packages (1.1.3)\n",
            "Requirement already satisfied: joblib>=1.0.0 in /usr/local/lib/python3.10/dist-packages (from scikit-surprise) (1.3.2)\n",
            "Requirement already satisfied: numpy>=1.17.3 in /usr/local/lib/python3.10/dist-packages (from scikit-surprise) (1.23.5)\n",
            "Requirement already satisfied: scipy>=1.3.2 in /usr/local/lib/python3.10/dist-packages (from scikit-surprise) (1.11.4)\n"
          ]
        }
      ]
    },
    {
      "cell_type": "code",
      "execution_count": null,
      "metadata": {
        "id": "jevNSFGzaa22"
      },
      "outputs": [],
      "source": [
        "import pandas as pd\n",
        "from surprise import SVD\n",
        "from surprise import Dataset\n",
        "from surprise import Reader"
      ]
    },
    {
      "cell_type": "code",
      "source": [
        "data = pd.read_csv(\"preprocessed_review.csv\")"
      ],
      "metadata": {
        "id": "QbewLOR_bAz8"
      },
      "execution_count": null,
      "outputs": []
    },
    {
      "cell_type": "code",
      "source": [
        "# Create a Reader object for the Surprise library\n",
        "reader = Reader(rating_scale=(0, 100))"
      ],
      "metadata": {
        "id": "pUDEvMAvbGd5"
      },
      "execution_count": null,
      "outputs": []
    },
    {
      "cell_type": "code",
      "source": [
        "# Convert data to Surprise dataset\n",
        "surprise_data = Dataset.load_from_df(data[['직무, 지역', '회사명', '총점']], reader)"
      ],
      "metadata": {
        "id": "LDF21phqCsTd"
      },
      "execution_count": null,
      "outputs": []
    },
    {
      "cell_type": "code",
      "source": [
        "# Use the entire dataset for training\n",
        "trainset = surprise_data.build_full_trainset()"
      ],
      "metadata": {
        "id": "t9fOWXh2JLfZ"
      },
      "execution_count": null,
      "outputs": []
    },
    {
      "cell_type": "code",
      "source": [
        "# Create an SVD model\n",
        "model = SVD()"
      ],
      "metadata": {
        "id": "E_diGVvTGnR2"
      },
      "execution_count": null,
      "outputs": []
    },
    {
      "cell_type": "code",
      "source": [
        "# Train the model\n",
        "model.fit(trainset)"
      ],
      "metadata": {
        "colab": {
          "base_uri": "https://localhost:8080/"
        },
        "id": "n5MScMFrGswq",
        "outputId": "67a86829-d5a3-4024-eafd-9206f29fa912"
      },
      "execution_count": null,
      "outputs": [
        {
          "output_type": "execute_result",
          "data": {
            "text/plain": [
              "<surprise.prediction_algorithms.matrix_factorization.SVD at 0x7c173e511b10>"
            ]
          },
          "metadata": {},
          "execution_count": 28
        }
      ]
    },
    {
      "cell_type": "code",
      "source": [
        "# User ratings\n",
        "ex_ratings = pd.DataFrame({'회사명': ['CJ씨푸드', 'LG전자'], '평점': ['10', '80']})"
      ],
      "metadata": {
        "id": "7LCBusPjJZ9p"
      },
      "execution_count": null,
      "outputs": []
    },
    {
      "cell_type": "code",
      "source": [
        "# List of companies rated by the example user\n",
        "rated_companies = ex_ratings['회사명'].tolist()"
      ],
      "metadata": {
        "id": "ApGPZH8zLe9w"
      },
      "execution_count": null,
      "outputs": []
    },
    {
      "cell_type": "code",
      "source": [
        "# List of companies not rated by the example user\n",
        "unrated_companies = [company for company in data['회사명'].unique() if company not in rated_companies]"
      ],
      "metadata": {
        "id": "s2ago3xXMzkr"
      },
      "execution_count": null,
      "outputs": []
    },
    {
      "cell_type": "code",
      "source": [
        "# Predict ratings for companies not rated by the example user\n",
        "predictions = [(company, model.predict('직무, 지역', company).est) for company in unrated_companies]"
      ],
      "metadata": {
        "id": "fD4BgbyXNDHi"
      },
      "execution_count": null,
      "outputs": []
    },
    {
      "cell_type": "code",
      "source": [
        "# Convert the prediction results to a DataFrame\n",
        "recommendations_df = pd.DataFrame(predictions, columns=['회사명', '평점'])"
      ],
      "metadata": {
        "id": "z4zst2GQNVB4"
      },
      "execution_count": null,
      "outputs": []
    },
    {
      "cell_type": "code",
      "source": [
        "# Sort recommendations by predicted ratings in descending order and select the top 10\n",
        "top_n_recommendations = recommendations_df.sort_values(by='평점', ascending=False).head(10)"
      ],
      "metadata": {
        "id": "fkAhrRTeNaYI"
      },
      "execution_count": null,
      "outputs": []
    },
    {
      "cell_type": "code",
      "source": [
        "print(top_n_recommendations)"
      ],
      "metadata": {
        "colab": {
          "base_uri": "https://localhost:8080/"
        },
        "id": "-GH-KznMMXPS",
        "outputId": "45e5515e-f004-462f-b185-0d1277d1b02e"
      },
      "execution_count": null,
      "outputs": [
        {
          "output_type": "stream",
          "name": "stdout",
          "text": [
            "             회사명         평점\n",
            "320        스마트전자  59.857191\n",
            "783   연세고운미소치과의원  59.014777\n",
            "1799      한국전력기술  58.923883\n",
            "1661      한국남동발전  58.854580\n",
            "654       에스피씨삼립  58.722622\n",
            "1678      한국동서발전  58.557928\n",
            "124       부산교통공사  58.518713\n",
            "385       신용보증기금  58.505294\n",
            "834          오존텍  58.493545\n",
            "61         바디텍메드  58.345328\n"
          ]
        }
      ]
    }
  ]
}