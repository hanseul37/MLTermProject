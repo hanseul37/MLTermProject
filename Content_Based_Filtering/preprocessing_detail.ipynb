{
  "nbformat": 4,
  "nbformat_minor": 0,
  "metadata": {
    "colab": {
      "provenance": []
    },
    "kernelspec": {
      "name": "python3",
      "display_name": "Python 3"
    },
    "language_info": {
      "name": "python"
    }
  },
  "cells": [
    {
      "cell_type": "code",
      "execution_count": null,
      "metadata": {
        "id": "di_rWS2enSzq"
      },
      "outputs": [],
      "source": [
        "import numpy as np\n",
        "import pandas as pd\n",
        "import re"
      ]
    },
    {
      "cell_type": "code",
      "source": [
        "data = pd.read_csv(\"details.csv\", encoding='CP949')"
      ],
      "metadata": {
        "id": "EWSFGu_gnmbj"
      },
      "execution_count": null,
      "outputs": []
    },
    {
      "cell_type": "code",
      "source": [
        "# Replacing '#NAME?' with NaN in the entire dataset\n",
        "data = data.replace('#NAME?', np.nan)"
      ],
      "metadata": {
        "id": "vIPNKXlkoQh-"
      },
      "execution_count": null,
      "outputs": []
    },
    {
      "cell_type": "code",
      "source": [
        "# Removing special characters from the '기업명' column\n",
        "data['기업명'] = data['기업명'].str.replace('㈜', '', regex=False)\n",
        "data['기업명'] = data['기업명'].str.replace('(주)', '', regex=False)\n",
        "data['기업명'] = data['기업명'].str.replace('(유)', '', regex=False)"
      ],
      "metadata": {
        "id": "WKVKHpq1oQYv"
      },
      "execution_count": null,
      "outputs": []
    },
    {
      "cell_type": "code",
      "source": [
        "# Applying regex to remove unwanted characters from all columns except '기업명'\n",
        "for column in data.columns:\n",
        "    if column != '기업명':\n",
        "        data[column] = data[column].apply(lambda x: re.sub(r'\\[.*?\\]|#|\\?|-|ㆍ|:|/|▶|■|□|※|\\d|[\\(\\),.\\n]', '', str(x)))\n"
      ],
      "metadata": {
        "id": "h0cZNxujSB57"
      },
      "execution_count": null,
      "outputs": []
    },
    {
      "cell_type": "code",
      "source": [
        "print(data)"
      ],
      "metadata": {
        "colab": {
          "base_uri": "https://localhost:8080/"
        },
        "id": "AE7mx4n8SEAC",
        "outputId": "10e44c25-0c72-4404-ad9f-f3adebfc1faf"
      },
      "execution_count": null,
      "outputs": [
        {
          "output_type": "stream",
          "name": "stdout",
          "text": [
            "           기업명                                        직무  \\\n",
            "0       뉴스킨코리아  Information Security Engineer 정보 보안 엔지니어   \n",
            "1        렛유인에듀                      취업 교육 콘텐츠 기획자신입경력 모집   \n",
            "2     오엠티아이코리아                                 ASPNET개발자   \n",
            "3         오니스트                                 콘텐츠 기획제작자   \n",
            "4     오엠티아이코리아                               경력자 시스템엔지니어   \n",
            "...        ...                                       ...   \n",
            "2803     델타이에스                           CAD 모델링 엔지니어 신입   \n",
            "2804     델타이에스                       기술영업 신입경력 직원채용 천안근무   \n",
            "2805     델타이에스                            FEA 해석 엔지니어 경력   \n",
            "2806     델타이에스                       CFD 열 유동 해석 엔지니어 경력   \n",
            "2807     델타이에스                           CAD 모델링 엔지니어 경력   \n",
            "\n",
            "                                                  주요 업무  \\\n",
            "0      국내 ISMSCBPR보안 감사 및 PCI 내부 감사 통과 준비 개인정보보호법에 따...   \n",
            "1                                                   nan   \n",
            "2      웹 어플리케이션 개발 및 유지보수 프론트엔드 Jquery Kendo UI Comp...   \n",
            "3     콘텐츠 기획제작자는 새로운 크리에이티브로 감도 높은 브랜딩과 매출 퍼포먼스를 모두 ...   \n",
            "4     Azure 클라우드 기반 서버 구축 및 운영 Microsoft Azure 개발환경 ...   \n",
            "...                                                 ...   \n",
            "2803                          CAD모델링업무근무부서  기술연구소직급  프로   \n",
            "2804  CAE 해석 소프트웨어 반도체각종 측정장비 등 기술영업근무부서  기술영업본부직급  ...   \n",
            "2805  자동차 전자 분야 열 유동 CFD해석 기술지원 및 엔지니어링컨설팅 프로젝트 수행근무...   \n",
            "2806  자동차 전자 분야 열 유동 CFD해석 기술지원 및 엔지니어링컨설팅 프로젝트 수행근무...   \n",
            "2807                          CAD모델링업무근무부서  기술연구소직급  프로   \n",
            "\n",
            "                                                  자격 요건  \\\n",
            "0      국내 개인정보보호법에 대한 지식 국내 정보통신망 이용촉진 및 정보보호 등에 관한 ...   \n",
            "1      대졸 이상 전공무관 OA 활용능력 우수자 엑셀 PPT 워드 도전적 집요함 고객친화...   \n",
            "2      초대졸이상 혹은 졸업자 해외여행에 결격사유가 없으신 분 관련 학과 졸업 혹은 관련...   \n",
            "3      포트폴리오 제출 가능한 분 콘텐츠를 통한 매출 및 ROAS 개선 경험 Adobe ...   \n",
            "4      IT서비스관련 경험 년 이상 Azure 클라우드 아키텍처 설계구축운영 경험 년 이...   \n",
            "...                                                 ...   \n",
            "2803  학력사항  대학 년졸업이상경력사항  신입 경력D CAD 프로그램사용유경험자NXSol...   \n",
            "2804  학력사항  대학년졸업이상경력사항  신입 경력CAE 해석 소프트웨어 및 반도체 각종측...   \n",
            "2805                 학력사항  대학교 년 졸업 이상졸업 예정자 가능경력사항  경력   \n",
            "2806                 학력사항  대학교 년 졸업 이상졸업 예정자 가능경력사항  경력   \n",
            "2807  학력사항  대학 년졸업이상경력사항  경력D CAD 프로그램사용유경험자NXSolidW...   \n",
            "\n",
            "                                                  우대 사항  \n",
            "0                                                   nan  \n",
            "1                                                   nan  \n",
            "2                                       ASPNET MVC 유경험자  \n",
            "3              유관 업무를 경험해보신 분 숏폼 콘텐츠 관심 및 콘텐츠 소비량이 높은 분  \n",
            "4      Azure 기반 RDBMS 최적화 운영 경험 DB 모니터링 툴 사용 유 경험자 L...  \n",
            "...                                                 ...  \n",
            "2803  CAD 능숙자Solid Edge Solid Works NX등mesh 제작전용툴사용유경험자  \n",
            "2804                                          동종업계 유경험자  \n",
            "2805  열유동해석 SW 유 경험자STARCCM+ Fluent CFX FloEFD 등D Si...  \n",
            "2806  열유동해석 SW 유 경험자STARCCM+ Fluent CFX FloEFD 등D Si...  \n",
            "2807  CAD 능숙자Solid Edge Solid Works NX등mesh 제작전용툴사용유경험자  \n",
            "\n",
            "[2808 rows x 5 columns]\n"
          ]
        }
      ]
    },
    {
      "cell_type": "code",
      "source": [
        "# Saving the preprocessed data to a new CSV file\n",
        "data.to_csv(\"preprocessed_detail.csv\", index=False)"
      ],
      "metadata": {
        "id": "fNCLKrTuxDfT"
      },
      "execution_count": null,
      "outputs": []
    }
  ]
}