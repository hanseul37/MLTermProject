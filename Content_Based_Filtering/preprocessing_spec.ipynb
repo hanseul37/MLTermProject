{
  "nbformat": 4,
  "nbformat_minor": 0,
  "metadata": {
    "colab": {
      "provenance": []
    },
    "kernelspec": {
      "name": "python3",
      "display_name": "Python 3"
    },
    "language_info": {
      "name": "python"
    }
  },
  "cells": [
    {
      "cell_type": "code",
      "execution_count": null,
      "metadata": {
        "id": "yrKkWDdYc5IE"
      },
      "outputs": [],
      "source": [
        "import numpy as np\n",
        "import pandas as pd\n",
        "from sklearn.linear_model import LinearRegression"
      ]
    },
    {
      "cell_type": "code",
      "source": [
        "data = pd.read_csv(\"spec.csv\")"
      ],
      "metadata": {
        "id": "8j8BL7y5eyOw"
      },
      "execution_count": null,
      "outputs": []
    },
    {
      "cell_type": "code",
      "source": [
        "# Remove '평균 토익스피킹 점수', '평균 오픽점수', '자격증' features\n",
        "data.drop(['평균 토익스피킹 점수','평균 오픽점수', '자격증'], axis=1, inplace=True)"
      ],
      "metadata": {
        "id": "hsxIyesznBJm"
      },
      "execution_count": null,
      "outputs": []
    },
    {
      "cell_type": "code",
      "source": [
        "# Process '기업명' by removing '㈜', '(주)', '(유)'\n",
        "data['기업명'] = data['기업명'].str.replace('㈜', '', regex=False)\n",
        "data['기업명'] = data['기업명'].str.replace('(주)', '', regex=False)\n",
        "data['기업명'] = data['기업명'].str.replace('(유)', '', regex=False)"
      ],
      "metadata": {
        "id": "PsVFYndyjJf6"
      },
      "execution_count": null,
      "outputs": []
    },
    {
      "cell_type": "code",
      "source": [
        "# Replace '-' with NaN\n",
        "data.replace('-', np.nan, inplace=True)"
      ],
      "metadata": {
        "id": "7pyzlOuzjRP6"
      },
      "execution_count": null,
      "outputs": []
    },
    {
      "cell_type": "code",
      "source": [
        "# Convert '평균 토익점수' column to numeric\n",
        "data['평균 토익점수'] = data['평균 토익점수'].apply(lambda x: float(x.replace('점', '')) if isinstance(x, str) else x)"
      ],
      "metadata": {
        "id": "ka2VnS0qhDTB"
      },
      "execution_count": null,
      "outputs": []
    },
    {
      "cell_type": "code",
      "source": [
        "# Convert '평균 외국어 개수', '평균 자격증 개수' columns to numeric\n",
        "for column in ['평균 외국어 개수', '평균 자격증 개수']:\n",
        "    data[column] = data[column].apply(lambda x: float(x.replace('개', '')) if isinstance(x, str) else x)"
      ],
      "metadata": {
        "id": "Sgyk-vXlgmho"
      },
      "execution_count": null,
      "outputs": []
    },
    {
      "cell_type": "code",
      "source": [
        "# Convert '평균 해외경험 횟수', '평균 인턴경험 횟수', '평균 수상 횟수', '평균 봉사 횟수' columns to numeric\n",
        "for column in ['평균 해외경험 횟수', '평균 인턴경험 횟수', '평균 수상 횟수', '평균 봉사 횟수']:\n",
        "    data[column] = data[column].apply(lambda x: float(x.replace('회', '')) if isinstance(x, str) else x)"
      ],
      "metadata": {
        "id": "W5m26oh2h6Yj"
      },
      "execution_count": null,
      "outputs": []
    },
    {
      "cell_type": "code",
      "source": [
        "# Iterate over each feature\n",
        "for column in data.columns:\n",
        "    if column in ['평균 토익점수', '평균 외국어 개수', '평균 해외경험 횟수', '평균 인턴경험 횟수', '평균 수상 횟수', '평균 봉사 횟수']:\n",
        "        # Split rows with and without missing values\n",
        "        train_data = data[data[column].notna()]\n",
        "        test_data = data[data[column].isna()]\n",
        "\n",
        "        # Prepare training data\n",
        "        X_train = train_data['평균 학점'].values.reshape(-1, 1)\n",
        "        y_train = train_data[column]\n",
        "\n",
        "        # Train the model\n",
        "        model = LinearRegression()\n",
        "        model.fit(X_train, y_train)\n",
        "\n",
        "        # Predict missing values\n",
        "        X_test = test_data['평균 학점'].values.reshape(-1, 1)\n",
        "        predicted_values = model.predict(X_test)\n",
        "\n",
        "        # Fill missing values with predicted values\n",
        "        data.loc[data[column].isna(), column] = predicted_values"
      ],
      "metadata": {
        "id": "0gs0HiNGAy7F"
      },
      "execution_count": null,
      "outputs": []
    },
    {
      "cell_type": "code",
      "source": [
        "# Display the preprocessed data\n",
        "print(data)"
      ],
      "metadata": {
        "colab": {
          "base_uri": "https://localhost:8080/"
        },
        "id": "f-WLihbOAbkH",
        "outputId": "976b1418-bc1c-4faf-de96-8c6afa1e9429"
      },
      "execution_count": null,
      "outputs": [
        {
          "output_type": "stream",
          "name": "stdout",
          "text": [
            "              기업명  평균 학점    평균 토익점수  평균 외국어 개수  평균 자격증 개수  평균 해외경험 횟수  \\\n",
            "0            삼성전자   3.72  833.00000   1.200000        2.2         1.3   \n",
            "1            우리은행   3.64  838.00000   1.100000        2.2         1.2   \n",
            "2            신한은행   3.72  841.00000   1.000000        2.4         1.1   \n",
            "3     한국스탠다드차타드은행   3.55  843.00000   1.100000        2.0         1.2   \n",
            "4          한국전력공사   3.65  851.00000   1.200000        2.4         1.4   \n",
            "...           ...    ...        ...        ...        ...         ...   \n",
            "3016        에코이에스   3.56  600.00000   1.157136        2.8         1.0   \n",
            "3017         농협홍삼   3.31  757.00000   1.000000        1.6         1.5   \n",
            "3018        포스하이알   3.73  789.66191   2.500000        2.2         1.0   \n",
            "3019      현대커민스엔진   3.68  816.00000   1.000000        2.8         1.0   \n",
            "3020       원신스카이텍   3.66  690.00000   1.500000        2.1         1.3   \n",
            "\n",
            "      평균 인턴경험 횟수  평균 수상 횟수  평균 봉사 횟수  \n",
            "0       1.300000  2.200000  2.000000  \n",
            "1       1.300000  1.700000  1.600000  \n",
            "2       1.100000  1.900000  1.700000  \n",
            "3       1.100000  2.400000  1.600000  \n",
            "4       1.300000  1.800000  1.800000  \n",
            "...          ...       ...       ...  \n",
            "3016    2.000000  1.766645  2.000000  \n",
            "3017    2.000000  1.670415  1.000000  \n",
            "3018    1.000000  1.000000  1.300000  \n",
            "3019    1.000000  1.900000  2.300000  \n",
            "3020    1.450943  3.500000  1.804438  \n",
            "\n",
            "[3021 rows x 9 columns]\n"
          ]
        }
      ]
    },
    {
      "cell_type": "code",
      "source": [
        "# Save to a new CSV file\n",
        "data.to_csv(\"preprocessed_spec.csv\", index=False)"
      ],
      "metadata": {
        "id": "HRy8zwNwGn9b"
      },
      "execution_count": null,
      "outputs": []
    }
  ]
}