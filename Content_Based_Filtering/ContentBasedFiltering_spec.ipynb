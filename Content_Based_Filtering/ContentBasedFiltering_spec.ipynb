{
  "nbformat": 4,
  "nbformat_minor": 0,
  "metadata": {
    "colab": {
      "provenance": []
    },
    "kernelspec": {
      "name": "python3",
      "display_name": "Python 3"
    },
    "language_info": {
      "name": "python"
    }
  },
  "cells": [
    {
      "cell_type": "code",
      "execution_count": null,
      "metadata": {
        "id": "J8q7VHYAFbgu"
      },
      "outputs": [],
      "source": [
        "import pandas as pd\n",
        "from sklearn.preprocessing import MinMaxScaler\n",
        "from sklearn.metrics.pairwise import cosine_similarity"
      ]
    },
    {
      "cell_type": "code",
      "source": [
        "data = pd.read_csv(\"preprocessed_spec.csv\")"
      ],
      "metadata": {
        "id": "HEx1AfshGVSj"
      },
      "execution_count": null,
      "outputs": []
    },
    {
      "cell_type": "code",
      "source": [
        "# Creating a DataFrame for user specifications\n",
        "user_spec = {\n",
        "    '평균 학점': 3.72,\n",
        "    '평균 토익점수': 833,\n",
        "    '평균 외국어 개수': 1.2,\n",
        "    '평균 자격증 개수': 2.2,\n",
        "    '평균 해외경험 횟수': 1.3,\n",
        "    '평균 인턴경험 횟수': 1.3,\n",
        "    '평균 수상 횟수': 2.2,\n",
        "    '평균 봉사 횟수': 2\n",
        "}\n",
        "user_spec_df = pd.DataFrame(user_spec, index=[0])"
      ],
      "metadata": {
        "id": "tRRTMUq9GOwI"
      },
      "execution_count": null,
      "outputs": []
    },
    {
      "cell_type": "code",
      "source": [
        "# Extracting only the necessary columns from the dataset\n",
        "data_scaled = data.drop('기업명', axis=1)"
      ],
      "metadata": {
        "id": "tFnRZMS70mBe"
      },
      "execution_count": null,
      "outputs": []
    },
    {
      "cell_type": "code",
      "source": [
        "# Scaling the data using Min-Max Scaler\n",
        "scaler = MinMaxScaler()\n",
        "data_scaled = pd.DataFrame(scaler.fit_transform(data_scaled), columns=data_scaled.columns)\n",
        "user_spec_scaled = scaler.transform(user_spec_df)"
      ],
      "metadata": {
        "id": "WAtqB6nC1qPQ"
      },
      "execution_count": null,
      "outputs": []
    },
    {
      "cell_type": "code",
      "source": [
        "# Calculating cosine similarity between the scaled dataset and user specifications\n",
        "cosine_sim = cosine_similarity(data_scaled, user_spec_scaled)"
      ],
      "metadata": {
        "id": "ZDG7j_V169VQ"
      },
      "execution_count": null,
      "outputs": []
    },
    {
      "cell_type": "code",
      "source": [
        "# Converting the similarity scores to a Series\n",
        "sim_scores = pd.Series(cosine_sim.flatten())\n",
        "\n",
        "# Sorting the similarity scores in descending order\n",
        "sim_scores_sorted = sim_scores.sort_values(ascending=False)\n",
        "\n",
        "# Extracting the top 5 indexes with the highest similarity scores\n",
        "top_indexes = sim_scores_sorted.iloc[:5].index\n",
        "\n",
        "# Retrieving the company names corresponding to the top indexes\n",
        "top_companies = data['기업명'].iloc[top_indexes]\n",
        "\n",
        "print(top_companies)\n"
      ],
      "metadata": {
        "colab": {
          "base_uri": "https://localhost:8080/"
        },
        "id": "J-SFOXAfDzRD",
        "outputId": "e3d14ab3-a365-4f31-b449-14a36d7e3058"
      },
      "execution_count": null,
      "outputs": [
        {
          "output_type": "stream",
          "name": "stdout",
          "text": [
            "0        삼성전자\n",
            "275     웅진씽크빅\n",
            "2925    한국마사회\n",
            "764      한솔교육\n",
            "48      롯데케미칼\n",
            "Name: 기업명, dtype: object\n"
          ]
        }
      ]
    }
  ]
}