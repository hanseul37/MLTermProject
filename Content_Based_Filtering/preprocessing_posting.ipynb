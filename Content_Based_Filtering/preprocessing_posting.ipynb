{
  "cells": [
    {
      "cell_type": "code",
      "execution_count": 3,
      "metadata": {
        "id": "5r6-bXk7iSCn"
      },
      "outputs": [],
      "source": [
        "import pandas as pd"
      ]
    },
    {
      "cell_type": "code",
      "execution_count": 4,
      "metadata": {
        "id": "qgF06fFti4CW"
      },
      "outputs": [],
      "source": [
        "data1 = pd.read_csv(\"posting1.csv\")\n",
        "data2 = pd.read_csv(\"posting2.csv\")"
      ]
    },
    {
      "cell_type": "code",
      "execution_count": 5,
      "metadata": {
        "id": "EK9iJnGhZSGo"
      },
      "outputs": [],
      "source": [
        "# Combine two data frames\n",
        "data = pd.concat([data1, data2], ignore_index=True)"
      ]
    },
    {
      "cell_type": "code",
      "execution_count": 6,
      "metadata": {
        "colab": {
          "base_uri": "https://localhost:8080/"
        },
        "id": "ydTeq3eyZgnK",
        "outputId": "775e8954-cfa1-4ff8-9725-c2867151050d"
      },
      "outputs": [
        {
          "output_type": "stream",
          "name": "stdout",
          "text": [
            "                                          회사명  \\\n",
            "0                                    엠에스씨코리아㈜   \n",
            "1                                      ㈜조네트워크   \n",
            "2      위키리크스코리아홀딩스㈜ (WiKiLeaks Korea Holdings   \n",
            "3                                         아워홈   \n",
            "4                                     초인산업개발㈜   \n",
            "...                                       ...   \n",
            "13343                                  ㈜디자인레벨   \n",
            "13344                               ㈜이브이알스튜디오   \n",
            "13345                               ㈜이브이알스튜디오   \n",
            "13346                               ㈜이브이알스튜디오   \n",
            "13347                                 ㈜다에리소프트   \n",
            "\n",
            "                                                     공고명 채용 형태(경력, 신입)    학력  \\\n",
            "0                                         각 부문별 신입/경력 채용         경력2년↑  초대졸↑   \n",
            "1                           병원홍보 온라인 바이럴마케팅 신입/경력 정규직 채용          경력무관  초대졸↑   \n",
            "2                           위키리크스한국 데스크·경력기자·마케팅 경력사원 모집      신입·경력1년↑  초대졸↑   \n",
            "3                   (주)아워홈 23년 하반기 신입 영양사, 조리사 공개채용(정규직)         신입·경력  학력무관   \n",
            "4                              토목시공 공무담당/안전관리자 신입,경력직 채용      신입·경력1년↑  학력무관   \n",
            "...                                                  ...           ...   ...   \n",
            "13343  [웹툰]남성향 성인용 웹툰 채색 담당자 모집\\r\\n                  ...         경력1년↑  학력무관   \n",
            "13344  [XR스튜디오]미디어아트실 라이팅룩뎁 담당자 모집\\r\\n               ...          경력무관  학력무관   \n",
            "13345  [XR스튜디오]미디어아트실 캐릭터/프랍 리깅 모집\\r\\n               ...          경력무관  학력무관   \n",
            "13346  [XR스튜디오]미디어아트실 캐릭터/프랍 어셋 모집\\r\\n               ...         경력3년↑  학력무관   \n",
            "13347  [다에리소프트]캐릭터 원화, 배경2D 디자이너 채용\\r\\n              ...         신입·경력  학력무관   \n",
            "\n",
            "          직장 위치                                   키워드      마감 기한  \\\n",
            "0       서울 중구 외       수출입계약, 해상무역, 물류센터, 수출입관리, 수출입계약  ~12/29(금)   \n",
            "1        서울 강남구     디지털마케팅, 옥외광고, 시장조사, SNS마케팅, 키워드광고  ~12/31(일)   \n",
            "2       서울 영등포구         촬영기자, 언론사, 취재기자, 촬영기자, 방송아나운서  ~12/13(수)   \n",
            "3      강원 전지역 외            메뉴개발, 메뉴개발, 중식, 케이터링, 고객안내  ~12/17(일)   \n",
            "4      서울 송파구 외          시공관리, 가스점검, 안전평가, 상하수도, 시설점검  ~12/31(일)   \n",
            "...         ...                                   ...        ...   \n",
            "13343    서울 금천구      2D디자인, 3D디자인, 3D매핑, 3D모델링, 게임디자인       상시채용   \n",
            "13344    서울 강남구       2D디자인, 3D디자인, 게임디자인, 애니메이션, 캐릭터       상시채용   \n",
            "13345    서울 강남구                       애니메이션, 플래쉬애니메이션       상시채용   \n",
            "13346    서울 서초구    2D디자인, 2D온라인게임, 3D디자인, 3D매핑, 3D모델링       상시채용   \n",
            "13347    서울 금천구  2D디자인, 2D온라인게임, 3D디자인, 3D온라인게임, 게임개발       상시채용   \n",
            "\n",
            "                                                   공고 링크  \n",
            "0      https://www.jobkorea.co.kr//Recruit/GI_Read/43...  \n",
            "1      https://www.jobkorea.co.kr//Recruit/GI_Read/43...  \n",
            "2      https://www.jobkorea.co.kr//Recruit/GI_Read/43...  \n",
            "3      https://www.jobkorea.co.kr//Recruit/GI_Read/43...  \n",
            "4      https://www.jobkorea.co.kr//Recruit/GI_Read/43...  \n",
            "...                                                  ...  \n",
            "13343  https://www.jobkorea.co.kr/https://www.gamejob...  \n",
            "13344  https://www.jobkorea.co.kr/https://www.gamejob...  \n",
            "13345  https://www.jobkorea.co.kr/https://www.gamejob...  \n",
            "13346  https://www.jobkorea.co.kr/https://www.gamejob...  \n",
            "13347  https://www.jobkorea.co.kr/https://www.gamejob...  \n",
            "\n",
            "[13348 rows x 8 columns]\n"
          ]
        }
      ],
      "source": [
        "# Check result\n",
        "print(data)"
      ]
    },
    {
      "cell_type": "code",
      "execution_count": 7,
      "metadata": {
        "id": "GTDluw0AFgmI"
      },
      "outputs": [],
      "source": [
        "data['회사명'] = data['회사명'].str.replace('㈜', '', regex=False)\n",
        "data['회사명'] = data['회사명'].str.replace('(주)', '', regex=False)\n",
        "data['회사명'] = data['회사명'].str.replace('(유)', '', regex=False)"
      ]
    },
    {
      "cell_type": "code",
      "execution_count": 8,
      "metadata": {
        "id": "9T4YIDJIHSl0"
      },
      "outputs": [],
      "source": [
        "# Select only the desired columns\n",
        "filtered_data = data['키워드']"
      ]
    },
    {
      "cell_type": "code",
      "execution_count": 9,
      "metadata": {
        "colab": {
          "base_uri": "https://localhost:8080/"
        },
        "id": "6ZSR7dy_i6q9",
        "outputId": "ad6c5d21-b30c-4789-ba78-4f0c01291b8a"
      },
      "outputs": [
        {
          "output_type": "stream",
          "name": "stdout",
          "text": [
            "0             수출입계약, 해상무역, 물류센터, 수출입관리, 수출입계약\n",
            "1           디지털마케팅, 옥외광고, 시장조사, SNS마케팅, 키워드광고\n",
            "2               촬영기자, 언론사, 취재기자, 촬영기자, 방송아나운서\n",
            "3                  메뉴개발, 메뉴개발, 중식, 케이터링, 고객안내\n",
            "4                시공관리, 가스점검, 안전평가, 상하수도, 시설점검\n",
            "                         ...                 \n",
            "13343        2D디자인, 3D디자인, 3D매핑, 3D모델링, 게임디자인\n",
            "13344         2D디자인, 3D디자인, 게임디자인, 애니메이션, 캐릭터\n",
            "13345                         애니메이션, 플래쉬애니메이션\n",
            "13346      2D디자인, 2D온라인게임, 3D디자인, 3D매핑, 3D모델링\n",
            "13347    2D디자인, 2D온라인게임, 3D디자인, 3D온라인게임, 게임개발\n",
            "Name: 키워드, Length: 13348, dtype: object\n"
          ]
        }
      ],
      "source": [
        "print(filtered_data)"
      ]
    },
    {
      "cell_type": "code",
      "execution_count": 10,
      "metadata": {
        "id": "AaKtOBdiHcip"
      },
      "outputs": [],
      "source": [
        "# Save as a new CSV file\n",
        "filtered_data.to_csv(\"preprocessed_posting.csv\", index=False)"
      ]
    },
    {
      "cell_type": "code",
      "execution_count": 11,
      "metadata": {
        "id": "QXf6QhkV8Sle"
      },
      "outputs": [],
      "source": [
        "data_without_header = filtered_data.iloc[1:].to_string(index=False)\n",
        "\n",
        "# Save a string as a text file\n",
        "with open(\"posting.txt\", \"w\") as txt_file:\n",
        "    txt_file.write(data_without_header)"
      ]
    },
    {
      "cell_type": "code",
      "execution_count": 12,
      "metadata": {
        "id": "e8AiLSA2h0zE"
      },
      "outputs": [],
      "source": [
        "input_file_path = 'posting.txt'\n",
        "output_file_path = 'prepocessed_posting.txt'\n",
        "\n",
        "with open(input_file_path, 'r', encoding='utf-8') as input_file:\n",
        "    text = input_file.read().replace('\\n', ' ')\n",
        "\n",
        "with open(output_file_path, 'w', encoding='utf-8') as output_file:\n",
        "    output_file.write(text)"
      ]
    }
  ],
  "metadata": {
    "colab": {
      "provenance": []
    },
    "kernelspec": {
      "display_name": "Python 3 (ipykernel)",
      "language": "python",
      "name": "python3"
    },
    "language_info": {
      "codemirror_mode": {
        "name": "ipython",
        "version": 3
      },
      "file_extension": ".py",
      "mimetype": "text/x-python",
      "name": "python",
      "nbconvert_exporter": "python",
      "pygments_lexer": "ipython3",
      "version": "3.11.2"
    }
  },
  "nbformat": 4,
  "nbformat_minor": 0
}