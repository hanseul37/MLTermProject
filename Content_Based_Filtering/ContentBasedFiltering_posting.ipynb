{
  "nbformat": 4,
  "nbformat_minor": 0,
  "metadata": {
    "colab": {
      "provenance": []
    },
    "kernelspec": {
      "name": "python3",
      "display_name": "Python 3"
    },
    "language_info": {
      "name": "python"
    }
  },
  "cells": [
    {
      "cell_type": "code",
      "source": [
        "import pandas as pd\n",
        "from gensim.models import Word2Vec"
      ],
      "metadata": {
        "id": "OD3TYXEtWWds"
      },
      "execution_count": null,
      "outputs": []
    },
    {
      "cell_type": "code",
      "source": [
        "data = pd.read_csv(\"preprocessed_posting.csv\")"
      ],
      "metadata": {
        "id": "DWOgWmDgb3pC"
      },
      "execution_count": null,
      "outputs": []
    },
    {
      "cell_type": "code",
      "source": [
        "# Converting each keyword group into a list of words\n",
        "keywords = [group.split(', ') for group in data['키워드']]"
      ],
      "metadata": {
        "id": "B7qtsLRyb5KZ"
      },
      "execution_count": null,
      "outputs": []
    },
    {
      "cell_type": "code",
      "source": [
        "# Training the Word2Vec model\n",
        "model = Word2Vec(sentences=keywords, vector_size=100, window=5, min_count=1, workers=4)"
      ],
      "metadata": {
        "id": "55Tx4XLIcAI1"
      },
      "execution_count": null,
      "outputs": []
    },
    {
      "cell_type": "code",
      "source": [
        "# User-input keywords\n",
        "user_keywords = \"소프트웨어개발, 모바일앱개발\"\n",
        "user_keywords = user_keywords.split(\", \")"
      ],
      "metadata": {
        "id": "Wl8vNCizcCB9"
      },
      "execution_count": null,
      "outputs": []
    },
    {
      "cell_type": "code",
      "source": [
        "# Finding the most similar keywords to the user-input keywords\n",
        "similar_keywords = model.wv.most_similar(user_keywords, topn=10)"
      ],
      "metadata": {
        "id": "Ahtxvg0YcE4O"
      },
      "execution_count": null,
      "outputs": []
    },
    {
      "cell_type": "code",
      "source": [
        "# Extracting only the keywords from the result\n",
        "similar_keywords = [keyword for keyword, _ in similar_keywords]"
      ],
      "metadata": {
        "id": "e1N_V3dceNS4"
      },
      "execution_count": null,
      "outputs": []
    },
    {
      "cell_type": "code",
      "source": [
        "print(similar_keywords)"
      ],
      "metadata": {
        "colab": {
          "base_uri": "https://localhost:8080/"
        },
        "id": "QgvVBWlUcLRo",
        "outputId": "5052a207-9785-4762-e25d-b280b0300009"
      },
      "execution_count": null,
      "outputs": [
        {
          "output_type": "stream",
          "name": "stdout",
          "text": [
            "['BigData', '솔루션', 'SI', 'SM', 'SI개발', '솔루션영업', 'ERP', '시스템운영', 'asp', '네트워크관리']\n"
          ]
        }
      ]
    }
  ]
}