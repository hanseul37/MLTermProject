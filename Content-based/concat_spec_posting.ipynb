{
  "nbformat": 4,
  "nbformat_minor": 0,
  "metadata": {
    "colab": {
      "provenance": []
    },
    "kernelspec": {
      "name": "python3",
      "display_name": "Python 3"
    },
    "language_info": {
      "name": "python"
    }
  },
  "cells": [
    {
      "cell_type": "code",
      "source": [
        "import pandas as pd"
      ],
      "metadata": {
        "id": "RIMe0-tkMHWD"
      },
      "execution_count": null,
      "outputs": []
    },
    {
      "cell_type": "code",
      "source": [
        "# CSV 파일 읽기\n",
        "spec_data = pd.read_csv(\"preprocessed_spec.csv\")\n",
        "posting_data = pd.read_csv(\"preprocessed_posting.csv\")"
      ],
      "metadata": {
        "id": "xw8fH1S_MIYb"
      },
      "execution_count": null,
      "outputs": []
    },
    {
      "cell_type": "code",
      "source": [
        "# '회사명'을 기준으로 두 데이터프레임을 결합\n",
        "merged_data = pd.merge(spec_data, posting_data, how='inner', left_on='기업명', right_on='회사명')"
      ],
      "metadata": {
        "id": "kADHhdYVMVBF"
      },
      "execution_count": null,
      "outputs": []
    },
    {
      "cell_type": "code",
      "source": [
        "# '회사명' 열이 중복되므로 중복된 열은 삭제\n",
        "merged_data = merged_data.drop('회사명', axis=1)"
      ],
      "metadata": {
        "id": "24waZlzLVl6a"
      },
      "execution_count": null,
      "outputs": []
    },
    {
      "cell_type": "code",
      "source": [
        "print(merged_data)"
      ],
      "metadata": {
        "colab": {
          "base_uri": "https://localhost:8080/"
        },
        "id": "7GWKwTfmMcRM",
        "outputId": "db3e4924-2398-49dc-9d89-d82be89dfac1"
      },
      "execution_count": null,
      "outputs": [
        {
          "output_type": "stream",
          "name": "stdout",
          "text": [
            "           기업명  평균 학점 평균 토익점수 평균 토익스피킹 점수 평균 오픽점수 평균 외국어 개수 평균 자격증 개수  \\\n",
            "0       삼성생명보험   3.57    791점          IH     IM3      1.3개      2.2개   \n",
            "1         LG화학   3.78    849점          IH     IM3      1.2개      2.1개   \n",
            "2         하나증권   3.48    835점          IH      AL        1개      3.2개   \n",
            "3        GS리테일   3.60    824점          IH      IH      1.3개      2.2개   \n",
            "4    메리츠화재해상보험   3.64    798점          IH     IM1        1개      2.1개   \n",
            "..         ...    ...     ...         ...     ...       ...       ...   \n",
            "177         참존   3.70    841점           -      AL      1.4개      2.3개   \n",
            "178       신한DS   3.62    778점         IM3     IM2        1개      2.5개   \n",
            "179    리치몬트코리아   3.61    793점         IM1     IM3      1.5개        2개   \n",
            "180     농협파트너스   3.54    630점          IH       -      1.1개        2개   \n",
            "181      에코이에스   3.56    600점           -     IM1         -      2.8개   \n",
            "\n",
            "    평균 해외경험 횟수 평균 인턴경험 횟수 평균 수상 횟수 평균 봉사 횟수  \\\n",
            "0         1.2회       1.4회     1.5회     1.8회   \n",
            "1         1.2회       1.3회     1.6회     1.8회   \n",
            "2         1.8회       1.4회       1회     1.9회   \n",
            "3         1.3회       1.2회     1.5회     1.8회   \n",
            "4         1.2회       1.4회     1.7회     1.6회   \n",
            "..         ...        ...      ...      ...   \n",
            "177       1.5회         1회     1.5회       2회   \n",
            "178       1.7회       1.3회       2회     1.8회   \n",
            "179       1.4회       1.4회     2.8회     2.1회   \n",
            "180       1.2회       1.7회     1.6회     1.5회   \n",
            "181         1회         2회        -       2회   \n",
            "\n",
            "                                                   자격증        회사명  \\\n",
            "0     워드프로세서 1급, 컴퓨터활용능력 2급, MOS, 워드프로세서 2급, 정보기기운용기능사     삼성생명보험   \n",
            "1    화공기사, 한국사능력검정시험 1급, 컴퓨터활용능력 2급, 워드프로세서 1급, 정보처...       LG화학   \n",
            "2       증권투자상담사, 증권펀드투자상담사, 컴퓨터활용능력 2급, 파생상품투자상담사, MOS       하나증권   \n",
            "3      유통관리사, 정보처리기사, 워드프로세서 1급, 컴퓨터활용능력 2급, 워드프로세서 2급      GS리테일   \n",
            "4     워드프로세서 1급, 컴퓨터활용능력 2급, 정보기기운용기능사, 워드프로세서 2급, MOS  메리츠화재해상보험   \n",
            "..                                                 ...        ...   \n",
            "177    워드프로세서 1급, 관광종사원, 컴퓨터활용능력 2급, 컴퓨터활용능력 3급, 미용기능사         참존   \n",
            "178             정보처리기사, 워드프로세서 2급, 리눅스마스터 2급, MOS, OCP       신한DS   \n",
            "179  정보기술자격(ITQ)인증시험, 컴퓨터활용능력 3급, 新 HSK5급, 워드프로세서 1...    리치몬트코리아   \n",
            "180    워드프로세서 2급, 워드프로세서 1급, 정보처리기능사, 정보기기운용기능사, 전기기능사     농협파트너스   \n",
            "181      수질환경기사, 수질환경산업기사, 대기환경기사, 대기환경산업기사, 워드프로세서 1급      에코이에스   \n",
            "\n",
            "                                                   키워드  \n",
            "0                            발전기, 공압기기, 제약영업, 기계, 구매계약  \n",
            "1                                     보관/재고관리, 석유화학 공정  \n",
            "2    빅데이터, 금융상품기획, 전략기획, 정보보안, 데이터파이프라인, 국내주식 신용/대출...  \n",
            "3                                       행정, 문서작성, 전산입력  \n",
            "4    Excel, 데이터관리, Tableau, 손해보험, 데이터분석, 비품관리, 문서관리...  \n",
            "..                                                 ...  \n",
            "177                      화장품판매, 매출관리, 판매관리, 진열관리, 고객응대  \n",
            "178                                      컨설팅, 클라우드아키텍트  \n",
            "179                              불가리, 티파니, 판매, 백화점, 명품  \n",
            "180                             고객문의분석, 상담품질관리, 통화품질분석  \n",
            "181                         유지보수, 폐수처리, 환경, 시설점검, 수질환경  \n",
            "\n",
            "[182 rows x 14 columns]\n"
          ]
        }
      ]
    }
  ]
}