{
  "nbformat": 4,
  "nbformat_minor": 0,
  "metadata": {
    "colab": {
      "provenance": []
    },
    "kernelspec": {
      "name": "python3",
      "display_name": "Python 3"
    },
    "language_info": {
      "name": "python"
    }
  },
  "cells": [
    {
      "cell_type": "code",
      "execution_count": 15,
      "metadata": {
        "id": "5r6-bXk7iSCn"
      },
      "outputs": [],
      "source": [
        "import pandas as pd"
      ]
    },
    {
      "cell_type": "code",
      "source": [
        "data = pd.read_csv(\"posting.csv\")"
      ],
      "metadata": {
        "id": "qgF06fFti4CW"
      },
      "execution_count": 16,
      "outputs": []
    },
    {
      "cell_type": "code",
      "source": [
        "data['회사명'] = data['회사명'].str.replace('㈜', '', regex=False)\n",
        "data['회사명'] = data['회사명'].str.replace('(주)', '', regex=False)\n",
        "data['회사명'] = data['회사명'].str.replace('(유)', '', regex=False)"
      ],
      "metadata": {
        "id": "GTDluw0AFgmI"
      },
      "execution_count": 17,
      "outputs": []
    },
    {
      "cell_type": "code",
      "source": [
        "# 원하는 열만 선택\n",
        "filtered_data = data[['회사명', '키워드']]"
      ],
      "metadata": {
        "id": "9T4YIDJIHSl0"
      },
      "execution_count": 18,
      "outputs": []
    },
    {
      "cell_type": "code",
      "source": [
        "print(filtered_data)"
      ],
      "metadata": {
        "colab": {
          "base_uri": "https://localhost:8080/"
        },
        "id": "6ZSR7dy_i6q9",
        "outputId": "6aeac78f-9c32-4fc9-de8a-5e18f34d8d36"
      },
      "execution_count": 19,
      "outputs": [
        {
          "output_type": "stream",
          "name": "stdout",
          "text": [
            "                                        회사명  \\\n",
            "0                                   엠에스씨코리아   \n",
            "1                                     조네트워크   \n",
            "2     위키리크스코리아홀딩스 (WiKiLeaks Korea Holdings   \n",
            "3                                       아워홈   \n",
            "4                                    초인산업개발   \n",
            "...                                     ...   \n",
            "6598                                   크래프톤   \n",
            "6599                                   크래프톤   \n",
            "6600                                  하운드13   \n",
            "6601                                   서울게임   \n",
            "6602                                  한빛소프트   \n",
            "\n",
            "                                        키워드  \n",
            "0           수출입계약, 해상무역, 물류센터, 수출입관리, 수출입계약  \n",
            "1         디지털마케팅, 옥외광고, 시장조사, SNS마케팅, 키워드광고  \n",
            "2             촬영기자, 언론사, 취재기자, 촬영기자, 방송아나운서  \n",
            "3                메뉴개발, 메뉴개발, 중식, 케이터링, 고객안내  \n",
            "4              시공관리, 가스점검, 안전평가, 상하수도, 시설점검  \n",
            "...                                     ...  \n",
            "6598               2D디자인, 3D디자인, 게임디자인, 캐릭터  \n",
            "6599  2D온라인게임, 3D온라인게임, 게임개발, 게임소프트웨어, 무선게임  \n",
            "6600  2D온라인게임, 3D온라인게임, 게임개발, 게임소프트웨어, 무선게임  \n",
            "6601  2D온라인게임, 3D온라인게임, 게임개발, 게임소프트웨어, 무선게임  \n",
            "6602   2D디자인, 2D온라인게임, 3D디자인, 3D온라인게임, 게임개발  \n",
            "\n",
            "[6603 rows x 2 columns]\n"
          ]
        }
      ]
    },
    {
      "cell_type": "code",
      "source": [
        "filtered_data = filtered_data.groupby('회사명')['키워드'].agg(lambda x: ', '.join(set(x))).reset_index()"
      ],
      "metadata": {
        "id": "J3lRkWgRNukZ"
      },
      "execution_count": 20,
      "outputs": []
    },
    {
      "cell_type": "code",
      "source": [
        "print(filtered_data)"
      ],
      "metadata": {
        "colab": {
          "base_uri": "https://localhost:8080/"
        },
        "id": "6d-J2ypNN09G",
        "outputId": "7bc8a22b-e0b5-479a-902e-16bef21527db"
      },
      "execution_count": 21,
      "outputs": [
        {
          "output_type": "stream",
          "name": "stdout",
          "text": [
            "                회사명                               키워드\n",
            "0              나우스넷      자동차튜닝, 판금, A·S수리, 자동차, 자동차부품\n",
            "1           남양주정상에듀         교사, 어학원, 영어학원, 학원강사, 교육상담\n",
            "2                내공           온라인광고, 광고기획, 광고제작, 광고대행\n",
            "3             뉴런 에듀                  입시학원, 입시학원, 보습학원\n",
            "4              니콜밀러     전산입력, 사이트관리, 복리후생, 자료조사, 비품관리\n",
            "...             ...                               ...\n",
            "4612        히어로 컴퍼니                    엔터테인먼트사, 매니지먼트\n",
            "4613            힐룩스   거래처관리, 의료기기영업, 바이오, 거래선개발관리, 제약\n",
            "4614          힐링사운드                  수출입계약, 바이어개발, 영어\n",
            "4615  힘찬부동산공인중개사사무소  상가, 임대컨설팅, 부동산중개, 부동산컨설팅, 부동산컨설팅\n",
            "4616         힘찬종합건설          시공관리, 공무, 견적, 건축시공, 리모델링\n",
            "\n",
            "[4617 rows x 2 columns]\n"
          ]
        }
      ]
    },
    {
      "cell_type": "code",
      "source": [
        "# 새로운 CSV 파일로 저장\n",
        "filtered_data.to_csv(\"preprocessed_posting.csv\", index=False)"
      ],
      "metadata": {
        "id": "AaKtOBdiHcip"
      },
      "execution_count": 22,
      "outputs": []
    }
  ]
}