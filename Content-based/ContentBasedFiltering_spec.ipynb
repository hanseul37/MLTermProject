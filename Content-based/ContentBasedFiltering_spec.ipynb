{
  "nbformat": 4,
  "nbformat_minor": 0,
  "metadata": {
    "colab": {
      "provenance": []
    },
    "kernelspec": {
      "name": "python3",
      "display_name": "Python 3"
    },
    "language_info": {
      "name": "python"
    }
  },
  "cells": [
    {
      "cell_type": "code",
      "execution_count": 8,
      "metadata": {
        "id": "J8q7VHYAFbgu"
      },
      "outputs": [],
      "source": [
        "import pandas as pd\n",
        "from sklearn.preprocessing import MinMaxScaler\n",
        "from sklearn.metrics.pairwise import cosine_similarity"
      ]
    },
    {
      "cell_type": "code",
      "source": [
        "data = pd.read_csv(\"preprocessed_spec.csv\")"
      ],
      "metadata": {
        "id": "HEx1AfshGVSj"
      },
      "execution_count": 9,
      "outputs": []
    },
    {
      "cell_type": "code",
      "source": [
        "user_spec = {\n",
        "    '평균 학점': 3.72,\n",
        "    '평균 토익점수': 833,\n",
        "    '평균 외국어 개수': 1.2,\n",
        "    '평균 자격증 개수': 2.2,\n",
        "    '평균 해외경험 횟수': 1.3,\n",
        "    '평균 인턴경험 횟수': 1.3,\n",
        "    '평균 수상 횟수': 2.2,\n",
        "    '평균 봉사 횟수': 2\n",
        "}\n",
        "user_spec_df = pd.DataFrame(user_spec, index=[0])"
      ],
      "metadata": {
        "id": "tRRTMUq9GOwI"
      },
      "execution_count": 10,
      "outputs": []
    },
    {
      "cell_type": "code",
      "source": [
        "# 필요한 컬럼만 추출\n",
        "data_scaled = data.drop('기업명', axis=1)"
      ],
      "metadata": {
        "id": "tFnRZMS70mBe"
      },
      "execution_count": 11,
      "outputs": []
    },
    {
      "cell_type": "code",
      "source": [
        "# 데이터 스케일링\n",
        "scaler = MinMaxScaler()\n",
        "data_scaled = pd.DataFrame(scaler.fit_transform(data_scaled), columns=data_scaled.columns)\n",
        "user_spec_scaled = scaler.transform(user_spec_df)"
      ],
      "metadata": {
        "id": "WAtqB6nC1qPQ"
      },
      "execution_count": 12,
      "outputs": []
    },
    {
      "cell_type": "code",
      "source": [
        "# 코사인 유사도 계산\n",
        "cosine_sim = cosine_similarity(data_scaled, user_spec_scaled)"
      ],
      "metadata": {
        "id": "ZDG7j_V169VQ"
      },
      "execution_count": 13,
      "outputs": []
    },
    {
      "cell_type": "code",
      "source": [
        "# 유사도 결과를 Series로 변환\n",
        "sim_scores = pd.Series(cosine_sim.flatten())\n",
        "\n",
        "# 유사도가 높은 순으로 정렬\n",
        "sim_scores_sorted = sim_scores.sort_values(ascending=False)\n",
        "\n",
        "# 유사도가 높은 상위 5개 인덱스 가져오기\n",
        "top_indexes = sim_scores_sorted.iloc[:5].index\n",
        "\n",
        "# 해당 인덱스의 기업명 가져오기\n",
        "top_companies = data['기업명'].iloc[top_indexes]\n",
        "\n",
        "print(top_companies)\n"
      ],
      "metadata": {
        "colab": {
          "base_uri": "https://localhost:8080/"
        },
        "id": "J-SFOXAfDzRD",
        "outputId": "e3d14ab3-a365-4f31-b449-14a36d7e3058"
      },
      "execution_count": 14,
      "outputs": [
        {
          "output_type": "stream",
          "name": "stdout",
          "text": [
            "0        삼성전자\n",
            "275     웅진씽크빅\n",
            "2925    한국마사회\n",
            "764      한솔교육\n",
            "48      롯데케미칼\n",
            "Name: 기업명, dtype: object\n"
          ]
        }
      ]
    }
  ]
}